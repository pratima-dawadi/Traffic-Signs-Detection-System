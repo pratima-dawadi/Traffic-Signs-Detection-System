{
 "cells": [
  {
   "cell_type": "code",
   "execution_count": 1,
   "id": "22d6ba61-eb30-4642-bc94-d097a973217f",
   "metadata": {},
   "outputs": [],
   "source": [
    "import requests, json\n",
    "import os"
   ]
  },
  {
   "cell_type": "code",
   "execution_count": 2,
   "id": "f81aacc0-4208-42ec-9a8c-3ccf3c753b69",
   "metadata": {},
   "outputs": [],
   "source": [
    "def get_image_url(api_url):\n",
    "    response = requests.get(api_url)\n",
    "    image_data = response.json()\n",
    "    height = image_data['height']\n",
    "    width = image_data['width']\n",
    "    image_url = image_data['thumb_original_url']\n",
    "    return image_url"
   ]
  },
  {
   "cell_type": "code",
   "execution_count": 3,
   "id": "3e73ac81-ed72-42a7-92f4-0dcdf21c748b",
   "metadata": {},
   "outputs": [],
   "source": [
    "def download_image(url, filename):\n",
    "    try:\n",
    "        os.makedirs(\"my_images\",exist_ok=True)\n",
    "        file_path=os.path.join(\"my_images\",filename)\n",
    "        response = requests.get(url)\n",
    "        response.raise_for_status()\n",
    "        \n",
    "        with open(file_path, 'wb') as file:\n",
    "            file.write(response.content)\n",
    "        \n",
    "        print(f\"Image successfully downloaded: {file_path}\")\n",
    "    \n",
    "    except Exception as e:\n",
    "        print(f\"An error occurred: {e}\")"
   ]
  },
  {
   "cell_type": "code",
   "execution_count": 8,
   "id": "80a9ab14-85b6-4879-bf58-f59525be84fe",
   "metadata": {},
   "outputs": [
    {
     "name": "stdout",
     "output_type": "stream",
     "text": [
      "477306593503728\n",
      "https://scontent.fktm10-1.fna.fbcdn.net/m1/v/t6/An_cUvgfndeHApjCW9dQLBcMa8k87o8NrQfaFbgu0h4Qebzka05jtOrrQDThiglow48jPqh3iWjbiR_Gf6zlaSS0rUlC7UPW-5FVeMPlpoBG2zhIPj5V4QiUoonA-D98PCsFmDiQjCQZP0qwHytIjhY?ccb=10-5&oh=00_AYBN40t_r_oLjvqL_s8Z2g8qUq0q9pIswhWLug5iL1GQsQ&oe=67279047&_nc_sid=201bca\n",
      "Image successfully downloaded: my_images\\477306593503728.jpg\n",
      "532278331102701\n",
      "https://scontent.fktm10-1.fna.fbcdn.net/m1/v/t6/An-XfiCM0bjOKxckKzPB_8ZQWSBCvHfYVxRWBYCWhbf5-977ntv23ml01DAyqqCzNkgrnWqqo6CttbgHcYVZz9Z7LqLVY5F_nV762WlQ7aVSzTfcsFOVU5ozjcQz9xYltH5RhA16yqxG3_sdJdmgsQ?ccb=10-5&oh=00_AYDF8CWI9BX-gEL6bh6uOxRE-LGRefVh6q51nXg-H5F8uA&oe=6727AF58&_nc_sid=201bca\n",
      "Image successfully downloaded: my_images\\532278331102701.jpg\n",
      "147107937426847\n",
      "https://scontent.fktm10-1.fna.fbcdn.net/m1/v/t6/An-f0aCRpkAw-2Cb7t3gTTN0bEgOlCeKLs4lz83dVY_XC5QIuEMiwAVctK5b7TXCea5o-Upc1M5FOAa_jmvfkAF_xCaNzzpnPMaOp90tHtLl0-BQaSCrthJtd-nBZ6he06Z3pu3RDVmmoUp4Xt33gvo?ccb=10-5&oh=00_AYAhTEv8gUf766-bpghNHziIAahEHzuRCVqmtrtmVgIGKg&oe=6727A567&_nc_sid=201bca\n",
      "Image successfully downloaded: my_images\\147107937426847.jpg\n",
      "395154942435870\n",
      "https://scontent.fktm10-1.fna.fbcdn.net/m1/v/t6/An8iVbbbvdkxyMYzWGq-OMfz97OKUhQFPMkeOsf2inuZt29Z3P5oaVuYEiL2KaEPx9W9YG14BVpnQSR_-OvzHn9qgSxDwSP_QtveIABMR8TV2w5jed0npU4CG-05Ne-n8dGdM7VWXvvbLWzikqE8kQ?ccb=10-5&oh=00_AYA-tdPe-eRSiNpbFGaVIg7H8S9KBCJZNdD57oR0Ka8gqg&oe=67279400&_nc_sid=201bca\n",
      "Image successfully downloaded: my_images\\395154942435870.jpg\n",
      "292807716336713\n",
      "https://scontent.fktm10-1.fna.fbcdn.net/m1/v/t6/An-phQvzqUr6ojw_1w-5j_T8CiFzH4VybG0mwruA26Hvi--WSjBhbg1qXFZbwhItXO8LJNXK8_iPtkOnlSxY-HRsqJtshBAHy4jMDdAg5VFqOJNgyoTgScy6I7tdFVGCjo75565jLpGVaExjxtZxfA?ccb=10-5&oh=00_AYCJReIzFkBHehMv73TE4gZujAX8c7PUzXhyS-xYKN0sgw&oe=6727A612&_nc_sid=201bca\n",
      "Image successfully downloaded: my_images\\292807716336713.jpg\n",
      "3776981739096254\n",
      "https://scontent.fktm10-1.fna.fbcdn.net/m1/v/t6/An8xd8KBjJjWo-gD85N-A29ABuuhEOJxPo5isx84ERN86kg5EZvGIwF9hcAWhFZL7uQKP39-0y8GPBdAWZ_4PaMn9-YiHcVINiufNbV1znAdrG4FVkIGSJJeWg4eEmT4lcZ-VUh0YCTcRu6IQdQXRg?ccb=10-5&oh=00_AYDLT8L4k8FDHfKMa-JliF-T0-_Ll81P9LXrH20hcSEvxw&oe=672796EA&_nc_sid=201bca\n",
      "Image successfully downloaded: my_images\\3776981739096254.jpg\n"
     ]
    }
   ],
   "source": [
    "try:\n",
    "    image_ids = ['477306593503728', '532278331102701', '147107937426847', '395154942435870', '292807716336713','3776981739096254']\n",
    "    access_token=''\n",
    "    for image_id in image_ids:\n",
    "        print(image_id)\n",
    "        api_url = f'https://graph.mapillary.com/{image_id}?access_token={access_token}&fields=height,width,thumb_original_url'        \n",
    "        requested_url=get_image_url(api_url)\n",
    "        print(requested_url)\n",
    "        file_path = f\"{image_id}.jpg\"\n",
    "        download_image(requested_url, file_path)\n",
    "\n",
    "except Exception as e:\n",
    "    print(f\"An error occurred: {str(e)}\")"
   ]
  },
  {
   "cell_type": "code",
   "execution_count": null,
   "id": "9979e40a-586e-49b1-8d07-e09e581d6376",
   "metadata": {},
   "outputs": [],
   "source": []
  }
 ],
 "metadata": {
  "kernelspec": {
   "display_name": "Python 3 (ipykernel)",
   "language": "python",
   "name": "python3"
  },
  "language_info": {
   "codemirror_mode": {
    "name": "ipython",
    "version": 3
   },
   "file_extension": ".py",
   "mimetype": "text/x-python",
   "name": "python",
   "nbconvert_exporter": "python",
   "pygments_lexer": "ipython3",
   "version": "3.11.4"
  }
 },
 "nbformat": 4,
 "nbformat_minor": 5
}
