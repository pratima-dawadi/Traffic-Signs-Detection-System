{
 "cells": [
  {
   "cell_type": "code",
   "execution_count": 11,
   "id": "6c64e6bd-dc44-430c-94f9-8e87e12ba765",
   "metadata": {},
   "outputs": [],
   "source": [
    "import json"
   ]
  },
  {
   "cell_type": "code",
   "execution_count": 12,
   "id": "c03cec26-61aa-4b9a-a86b-42773de6eff3",
   "metadata": {},
   "outputs": [],
   "source": [
    "def get_map_feature_ids(json_file,traffic_signs):\n",
    "    with open(json_file) as f:\n",
    "        data = json.load(f)\n",
    "    map_feature_ids = []\n",
    "    for feature in data['features']:\n",
    "        if feature['properties']['value'] in traffic_signs:\n",
    "            map_feature_ids.append(feature['properties']['id'])\n",
    "\n",
    "    return map_feature_ids"
   ]
  },
  {
   "cell_type": "code",
   "execution_count": 13,
   "id": "12f185e4-38f2-4be7-acef-0a0e38f80279",
   "metadata": {},
   "outputs": [],
   "source": [
    "def get_traffic_signs():\n",
    "    filename='traffic_signs.txt'\n",
    "    try:\n",
    "        with open(filename) as f:\n",
    "            return [line.strip() for line in f if line.strip()]\n",
    "        \n",
    "    except FileNotFoundError:\n",
    "        print(f'File {filename} not found')\n",
    "        return []    "
   ]
  },
  {
   "cell_type": "code",
   "execution_count": 19,
   "id": "c5e20949-b626-43bb-9c25-bf49240bb93a",
   "metadata": {},
   "outputs": [],
   "source": [
    "def get_image_ids(map_feature_ids):\n",
    "    image_ids = []\n",
    "    access_token=\"\"\n",
    "    for map_feature_id in map_feature_ids:\n",
    "        url = f\"https://graph.mapillary.com/{map_feature_id}?access_token={access_token}&fields=images\"\n",
    "        response = requests.get(url)\n",
    "        data = response.json()\n",
    "        print(f\"data: {data}\")\n",
    "\n",
    "        if 'images' in data and 'data' in data['images']:\n",
    "            for image in data['images']['data']:\n",
    "                print(image['id'])\n",
    "                image_ids.append(image['id'])\n",
    "\n",
    "    return image_ids"
   ]
  },
  {
   "cell_type": "code",
   "execution_count": 21,
   "id": "4d269456-ae0c-4546-b867-d3d9794ff569",
   "metadata": {},
   "outputs": [
    {
     "name": "stdout",
     "output_type": "stream",
     "text": [
      "['information--highway-interchange--g1', 'warning--double-curve-first-right--g1']\n",
      "[1052977478562401, 1029139457811796, 479148600575902, 3136560329914546, 1475152879487196, 307745887468308, 307742217468675, 2787268428188657, 370631961024811, 367148008039873, 376277273710402, 1409526112765418, 309811594051956, 308956027470846, 984461255424845]\n",
      "15\n",
      "data: {'images': {'data': [{'geometry': {'type': 'Point', 'coordinates': [85.312042248829, 27.683713939469]}, 'id': '477306593503728'}, {'geometry': {'type': 'Point', 'coordinates': [85.311966211381, 27.683620464245]}, 'id': '532278331102701'}, {'geometry': {'type': 'Point', 'coordinates': [85.312070212979, 27.683760109695]}, 'id': '147107937426847'}]}, 'id': '1052977478562401'}\n",
      "477306593503728\n",
      "532278331102701\n",
      "147107937426847\n",
      "data: {'images': {'data': [{'geometry': {'type': 'Point', 'coordinates': [85.2948122, 27.664441694169]}, 'id': '395154942435870'}, {'geometry': {'type': 'Point', 'coordinates': [85.2948728, 27.66430625349]}, 'id': '292807716336713'}]}, 'id': '1029139457811796'}\n",
      "395154942435870\n",
      "292807716336713\n",
      "data: {'images': {'data': [{'geometry': {'type': 'Point', 'coordinates': [85.29357841665, 27.668059663908]}, 'id': '1382618345512696'}, {'geometry': {'type': 'Point', 'coordinates': [85.293482732797, 27.668085639235]}, 'id': '444222544145321'}]}, 'id': '479148600575902'}\n",
      "1382618345512696\n",
      "444222544145321\n",
      "data: {'images': {'data': [{'geometry': {'type': 'Point', 'coordinates': [85.29129169151, 27.669072328332]}, 'id': '779019253485195'}, {'geometry': {'type': 'Point', 'coordinates': [85.291194978947, 27.669139157895]}, 'id': '1023983624994027'}]}, 'id': '3136560329914546'}\n",
      "779019253485195\n",
      "1023983624994027\n",
      "data: {'images': {'data': [{'geometry': {'type': 'Point', 'coordinates': [85.307043773567, 27.670376738117]}, 'id': '312189693641886'}, {'geometry': {'type': 'Point', 'coordinates': [85.307065338799, 27.670421058857]}, 'id': '368476001252587'}, {'geometry': {'type': 'Point', 'coordinates': [85.307148544506, 27.67055518889]}, 'id': '292611495874359'}]}, 'id': '1475152879487196'}\n",
      "312189693641886\n",
      "368476001252587\n",
      "292611495874359\n",
      "data: {'images': {'data': [{'geometry': {'type': 'Point', 'coordinates': [85.318952435357, 27.671366380104]}, 'id': '957222825046054'}, {'geometry': {'type': 'Point', 'coordinates': [85.318887587271, 27.671391763409]}, 'id': '190246496279718'}]}, 'id': '307745887468308'}\n",
      "957222825046054\n",
      "190246496279718\n",
      "data: {'images': {'data': [{'geometry': {'type': 'Point', 'coordinates': [85.316649822817, 27.671960943501]}, 'id': '1589488534579899'}, {'geometry': {'type': 'Point', 'coordinates': [85.316441524307, 27.671989370116]}, 'id': '739464950057640'}]}, 'id': '307742217468675'}\n",
      "1589488534579899\n",
      "739464950057640\n",
      "data: {'images': {'data': [{'geometry': {'type': 'Point', 'coordinates': [85.312050978161, 27.676244894874]}, 'id': '495143635067085'}, {'geometry': {'type': 'Point', 'coordinates': [85.312148644033, 27.676184944983]}, 'id': '210213740913780'}, {'geometry': {'type': 'Point', 'coordinates': [85.312202555413, 27.676155714868]}, 'id': '302260668020856'}, {'geometry': {'type': 'Point', 'coordinates': [85.312103465762, 27.676218118595]}, 'id': '302128284686227'}]}, 'id': '2787268428188657'}\n",
      "495143635067085\n",
      "210213740913780\n",
      "302260668020856\n",
      "302128284686227\n",
      "data: {'images': {'data': [{'geometry': {'type': 'Point', 'coordinates': [85.315599, 27.675762]}, 'id': '919522098614824'}, {'geometry': {'type': 'Point', 'coordinates': [85.315586038539, 27.675578473378]}, 'id': '2138773413087882'}, {'geometry': {'type': 'Point', 'coordinates': [85.31582976629, 27.676112642652]}, 'id': '518433459163000'}]}, 'id': '370631961024811'}\n",
      "919522098614824\n",
      "2138773413087882\n",
      "518433459163000\n",
      "data: {'images': {'data': [{'geometry': {'type': 'Point', 'coordinates': [85.315764, 27.676157]}, 'id': '460585591837510'}, {'geometry': {'type': 'Point', 'coordinates': [85.315840574198, 27.676093175357]}, 'id': '510667413309914'}, {'geometry': {'type': 'Point', 'coordinates': [85.315863004285, 27.676142797835]}, 'id': '922329621963230'}, {'geometry': {'type': 'Point', 'coordinates': [85.31563291226, 27.675646753673]}, 'id': '573547470283368'}, {'geometry': {'type': 'Point', 'coordinates': [85.315775885623, 27.675942458652]}, 'id': '1008803376325075'}, {'geometry': {'type': 'Point', 'coordinates': [85.315677, 27.675964]}, 'id': '1456581451361903'}, {'geometry': {'type': 'Point', 'coordinates': [85.315816, 27.676262]}, 'id': '2962127960674282'}, {'geometry': {'type': 'Point', 'coordinates': [85.315756887454, 27.675895872559]}, 'id': '212256493781564'}, {'geometry': {'type': 'Point', 'coordinates': [85.315895898062, 27.676231558115]}, 'id': '505412647317468'}, {'geometry': {'type': 'Point', 'coordinates': [85.315735913605, 27.67585928896]}, 'id': '766653060714163'}, {'geometry': {'type': 'Point', 'coordinates': [85.315644, 27.675895]}, 'id': '2820070431640452'}, {'geometry': {'type': 'Point', 'coordinates': [85.315732, 27.676053]}, 'id': '3009289152659353'}]}, 'id': '367148008039873'}\n",
      "460585591837510\n",
      "510667413309914\n",
      "922329621963230\n",
      "573547470283368\n",
      "1008803376325075\n",
      "1456581451361903\n",
      "2962127960674282\n",
      "212256493781564\n",
      "505412647317468\n",
      "766653060714163\n",
      "2820070431640452\n",
      "3009289152659353\n",
      "data: {'images': {'data': [{'geometry': {'type': 'Point', 'coordinates': [85.316693296794, 27.679018597896]}, 'id': '159976369393420'}, {'geometry': {'type': 'Point', 'coordinates': [85.316735564706, 27.679183320588]}, 'id': '574754573496328'}, {'geometry': {'type': 'Point', 'coordinates': [85.316895884615, 27.679640686813]}, 'id': '523477555361140'}]}, 'id': '376277273710402'}\n",
      "159976369393420\n",
      "574754573496328\n",
      "523477555361140\n",
      "data: {'images': {'data': [{'geometry': {'type': 'Point', 'coordinates': [85.327319613772, 27.667587021557]}, 'id': '302599811316303'}, {'geometry': {'type': 'Point', 'coordinates': [85.327478392147, 27.667556410785]}, 'id': '2865969827053462'}]}, 'id': '1409526112765418'}\n",
      "302599811316303\n",
      "2865969827053462\n",
      "data: {'images': {'data': [{'geometry': {'type': 'Point', 'coordinates': [85.31957924554, 27.671077270134]}, 'id': '969881057088846'}, {'geometry': {'type': 'Point', 'coordinates': [85.319654181302, 27.671046712038]}, 'id': '282701736869773'}]}, 'id': '309811594051956'}\n",
      "969881057088846\n",
      "282701736869773\n",
      "data: {'images': {'data': [{'geometry': {'type': 'Point', 'coordinates': [85.31957924554, 27.671077270134]}, 'id': '969881057088846'}, {'geometry': {'type': 'Point', 'coordinates': [85.319654181302, 27.671046712038]}, 'id': '282701736869773'}]}, 'id': '308956027470846'}\n",
      "969881057088846\n",
      "282701736869773\n",
      "data: {'images': {'data': [{'geometry': {'type': 'Point', 'coordinates': [85.339310150642, 27.671177353702]}, 'id': '926718418088337'}, {'geometry': {'type': 'Point', 'coordinates': [85.33917077313, 27.671101009547]}, 'id': '526694391665816'}]}, 'id': '984461255424845'}\n",
      "926718418088337\n",
      "526694391665816\n",
      "['477306593503728', '532278331102701', '147107937426847', '395154942435870', '292807716336713', '1382618345512696', '444222544145321', '779019253485195', '1023983624994027', '312189693641886', '368476001252587', '292611495874359', '957222825046054', '190246496279718', '1589488534579899', '739464950057640', '495143635067085', '210213740913780', '302260668020856', '302128284686227', '919522098614824', '2138773413087882', '518433459163000', '460585591837510', '510667413309914', '922329621963230', '573547470283368', '1008803376325075', '1456581451361903', '2962127960674282', '212256493781564', '505412647317468', '766653060714163', '2820070431640452', '3009289152659353', '159976369393420', '574754573496328', '523477555361140', '302599811316303', '2865969827053462', '969881057088846', '282701736869773', '969881057088846', '282701736869773', '926718418088337', '526694391665816']\n"
     ]
    }
   ],
   "source": [
    "try:\n",
    "    traffic_signs = get_traffic_signs()\n",
    "    print(traffic_signs)\n",
    "    \n",
    "    map_feature_ids=get_map_feature_ids('mydata.json',traffic_signs)\n",
    "    print(map_feature_ids)\n",
    "    print(len(map_feature_ids))\n",
    "    image_ids=get_image_ids(map_feature_ids)\n",
    "    print(image_ids)\n",
    "except Exception as e:\n",
    "    print(f\"An error occurred: {str(e)}\")"
   ]
  },
  {
   "cell_type": "code",
   "execution_count": null,
   "id": "a92856cb-6824-4f95-a716-0bce75cc3f31",
   "metadata": {},
   "outputs": [],
   "source": []
  }
 ],
 "metadata": {
  "kernelspec": {
   "display_name": "Python 3 (ipykernel)",
   "language": "python",
   "name": "python3"
  },
  "language_info": {
   "codemirror_mode": {
    "name": "ipython",
    "version": 3
   },
   "file_extension": ".py",
   "mimetype": "text/x-python",
   "name": "python",
   "nbconvert_exporter": "python",
   "pygments_lexer": "ipython3",
   "version": "3.11.4"
  }
 },
 "nbformat": 4,
 "nbformat_minor": 5
}
